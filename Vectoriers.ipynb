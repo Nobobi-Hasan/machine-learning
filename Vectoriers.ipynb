{
 "cells": [
  {
   "cell_type": "markdown",
   "id": "3eae5643-796f-48af-ae99-f3281939590b",
   "metadata": {},
   "source": [
    "## Count Vectorizer"
   ]
  },
  {
   "cell_type": "code",
   "execution_count": 9,
   "id": "c341b578-09f3-4f2d-8b57-9e406e66b034",
   "metadata": {},
   "outputs": [],
   "source": [
    "from sklearn.feature_extraction.text import CountVectorizer"
   ]
  },
  {
   "cell_type": "code",
   "execution_count": 2,
   "id": "1e25a7bb-ed0e-4ff0-9b72-800ec0ab7e13",
   "metadata": {},
   "outputs": [],
   "source": [
    "dataset = [\n",
    "    'Hey welcome to ML learning',\n",
    "    'My name is Shatin',\n",
    "    'I am a software engineer, but now I am learning ML',\n",
    "    'Please pray for me'\n",
    "]"
   ]
  },
  {
   "cell_type": "code",
   "execution_count": 3,
   "id": "15ebef37-49bf-4bb3-a926-8ef01e00f1d2",
   "metadata": {},
   "outputs": [],
   "source": [
    "cv_model = CountVectorizer()\n",
    "X = cv_model.fit_transform(dataset)"
   ]
  },
  {
   "cell_type": "code",
   "execution_count": 4,
   "id": "eb705345-519d-4c77-8ca3-f58d94cd1ffd",
   "metadata": {},
   "outputs": [
    {
     "data": {
      "text/plain": [
       "array(['am', 'but', 'engineer', 'for', 'hey', 'is', 'learning', 'me',\n",
       "       'ml', 'my', 'name', 'now', 'please', 'pray', 'shatin', 'software',\n",
       "       'to', 'welcome'], dtype=object)"
      ]
     },
     "execution_count": 4,
     "metadata": {},
     "output_type": "execute_result"
    }
   ],
   "source": [
    "cv_model.get_feature_names_out()"
   ]
  },
  {
   "cell_type": "code",
   "execution_count": 5,
   "id": "0a49e4aa-bbc0-4885-a65f-a0b4a19efab6",
   "metadata": {},
   "outputs": [
    {
     "data": {
      "text/plain": [
       "array([[0, 0, 0, 0, 1, 0, 1, 0, 1, 0, 0, 0, 0, 0, 0, 0, 1, 1],\n",
       "       [0, 0, 0, 0, 0, 1, 0, 0, 0, 1, 1, 0, 0, 0, 1, 0, 0, 0],\n",
       "       [2, 1, 1, 0, 0, 0, 1, 0, 1, 0, 0, 1, 0, 0, 0, 1, 0, 0],\n",
       "       [0, 0, 0, 1, 0, 0, 0, 1, 0, 0, 0, 0, 1, 1, 0, 0, 0, 0]])"
      ]
     },
     "execution_count": 5,
     "metadata": {},
     "output_type": "execute_result"
    }
   ],
   "source": [
    "X.toarray()"
   ]
  },
  {
   "cell_type": "markdown",
   "id": "f956375d-e10b-4b26-9779-776291be7f65",
   "metadata": {},
   "source": [
    "## TF-IDF Vectorizer"
   ]
  },
  {
   "cell_type": "code",
   "execution_count": 6,
   "id": "700b4fe1-3d4f-404b-9d4f-cd580001c577",
   "metadata": {},
   "outputs": [],
   "source": [
    "from sklearn.feature_extraction.text import TfidfVectorizer\n",
    "TI_model = TfidfVectorizer()\n",
    "X = TI_model.fit_transform(dataset)"
   ]
  },
  {
   "cell_type": "code",
   "execution_count": 7,
   "id": "13dd29d7-249a-4988-a80b-05d02c0c3c32",
   "metadata": {},
   "outputs": [
    {
     "data": {
      "text/plain": [
       "array(['am', 'but', 'engineer', 'for', 'hey', 'is', 'learning', 'me',\n",
       "       'ml', 'my', 'name', 'now', 'please', 'pray', 'shatin', 'software',\n",
       "       'to', 'welcome'], dtype=object)"
      ]
     },
     "execution_count": 7,
     "metadata": {},
     "output_type": "execute_result"
    }
   ],
   "source": [
    "TI_model.get_feature_names_out()"
   ]
  },
  {
   "cell_type": "code",
   "execution_count": 8,
   "id": "3b8deaa8-98cc-4385-9185-c5111ad0f787",
   "metadata": {},
   "outputs": [
    {
     "data": {
      "text/plain": [
       "array([[0.        , 0.        , 0.        , 0.        , 0.48546061,\n",
       "        0.        , 0.38274272, 0.        , 0.38274272, 0.        ,\n",
       "        0.        , 0.        , 0.        , 0.        , 0.        ,\n",
       "        0.        , 0.48546061, 0.48546061],\n",
       "       [0.        , 0.        , 0.        , 0.        , 0.        ,\n",
       "        0.5       , 0.        , 0.        , 0.        , 0.5       ,\n",
       "        0.5       , 0.        , 0.        , 0.        , 0.5       ,\n",
       "        0.        , 0.        , 0.        ],\n",
       "       [0.65783832, 0.32891916, 0.32891916, 0.        , 0.        ,\n",
       "        0.        , 0.25932364, 0.        , 0.25932364, 0.        ,\n",
       "        0.        , 0.32891916, 0.        , 0.        , 0.        ,\n",
       "        0.32891916, 0.        , 0.        ],\n",
       "       [0.        , 0.        , 0.        , 0.5       , 0.        ,\n",
       "        0.        , 0.        , 0.5       , 0.        , 0.        ,\n",
       "        0.        , 0.        , 0.5       , 0.5       , 0.        ,\n",
       "        0.        , 0.        , 0.        ]])"
      ]
     },
     "execution_count": 8,
     "metadata": {},
     "output_type": "execute_result"
    }
   ],
   "source": [
    "X.toarray()"
   ]
  },
  {
   "cell_type": "code",
   "execution_count": null,
   "id": "96b99b5c-1a3c-4a0b-a1d6-10425444f90c",
   "metadata": {},
   "outputs": [],
   "source": []
  }
 ],
 "metadata": {
  "kernelspec": {
   "display_name": "Python 3 (ipykernel)",
   "language": "python",
   "name": "python3"
  },
  "language_info": {
   "codemirror_mode": {
    "name": "ipython",
    "version": 3
   },
   "file_extension": ".py",
   "mimetype": "text/x-python",
   "name": "python",
   "nbconvert_exporter": "python",
   "pygments_lexer": "ipython3",
   "version": "3.12.4"
  }
 },
 "nbformat": 4,
 "nbformat_minor": 5
}
