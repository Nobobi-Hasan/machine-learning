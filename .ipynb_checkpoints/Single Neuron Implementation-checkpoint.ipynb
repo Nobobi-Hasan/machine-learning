{
 "cells": [
  {
   "cell_type": "markdown",
   "id": "5e265109-3180-40e6-833a-160c729c7011",
   "metadata": {},
   "source": [
    "## Neuron Implementation\n",
    "We will define the sigmoid function and the feedforward function to calculate the output of the neuron."
   ]
  },
  {
   "cell_type": "code",
   "execution_count": 1,
   "id": "1f64898e-8445-4d59-a734-98b54c061e36",
   "metadata": {},
   "outputs": [],
   "source": [
    "import math"
   ]
  },
  {
   "cell_type": "markdown",
   "id": "9b4798e2-f363-420e-822a-302afa605ed0",
   "metadata": {},
   "source": [
    "Activation Function: Computes the sigmoid activation function."
   ]
  },
  {
   "cell_type": "code",
   "execution_count": 2,
   "id": "8cb91e64-4c08-4c4a-abb8-69b7999c0220",
   "metadata": {},
   "outputs": [],
   "source": [
    "def sigmoid(z):\n",
    "    return 1 / (1 + math.exp(-z))"
   ]
  },
  {
   "cell_type": "markdown",
   "id": "7057afb4-d2f5-434a-b43a-a735135bf749",
   "metadata": {},
   "source": [
    "Feedforward Network:\n",
    "\n",
    "1. Calculates the weighted sum of inputs plus the bias.\n",
    "2. Applies the sigmoid activation function to the total."
   ]
  },
  {
   "cell_type": "code",
   "execution_count": 3,
   "id": "86274a76-132f-449d-80c7-b661a7cad86b",
   "metadata": {},
   "outputs": [],
   "source": [
    "def feedforward(weights, bias, inputs):\n",
    "   \n",
    "    total = sum(w * x for w, x in zip(weights, inputs)) + bias\n",
    "   \n",
    "    return sigmoid(total)"
   ]
  },
  {
   "cell_type": "markdown",
   "id": "a1b341b7-81a6-4da1-a628-ddde85999c06",
   "metadata": {},
   "source": [
    "classify(): Converts the sigmoid output to a class label based on a threshold (default is 0.5)."
   ]
  },
  {
   "cell_type": "code",
   "execution_count": 5,
   "id": "c415a50a-9ba6-4f3c-9f91-196c61e2f76a",
   "metadata": {},
   "outputs": [],
   "source": [
    "def classify(output, threshold=0.5):\n",
    "    return 1 if output >= threshold else 0"
   ]
  },
  {
   "cell_type": "markdown",
   "id": "3818b1ea-01dd-4c22-8184-dfc914397570",
   "metadata": {},
   "source": [
    "We will define the weights, bias, and inputs, and then calculate the output of the neuron using the feedforward function."
   ]
  },
  {
   "cell_type": "code",
   "execution_count": 6,
   "id": "c4b17054-d790-4086-ba2f-29ccb20d0bd8",
   "metadata": {},
   "outputs": [
    {
     "name": "stdout",
     "output_type": "stream",
     "text": [
      "Output of the neuron for inputs [2, 3] is: 0.9706877692486436\n"
     ]
    }
   ],
   "source": [
    "weights = [0, 1]\n",
    "bias = 0.5\n",
    "\n",
    "inputs = [2, 3]\n",
    "\n",
    "output = feedforward(weights, bias, inputs)\n",
    "print(f\"Output of the neuron for inputs {inputs} is: {output}\")"
   ]
  },
  {
   "cell_type": "code",
   "execution_count": 7,
   "id": "c3613189-ba69-4cd2-8990-4e8623255cba",
   "metadata": {},
   "outputs": [
    {
     "name": "stdout",
     "output_type": "stream",
     "text": [
      "Class label for the output is: 1\n"
     ]
    }
   ],
   "source": [
    "class_label = classify(output)\n",
    "print(f\"Class label for the output is: {class_label}\")"
   ]
  },
  {
   "cell_type": "code",
   "execution_count": null,
   "id": "065adbec-4305-4a45-9bf5-2846f6ff6d92",
   "metadata": {},
   "outputs": [],
   "source": []
  }
 ],
 "metadata": {
  "kernelspec": {
   "display_name": "Python 3 (ipykernel)",
   "language": "python",
   "name": "python3"
  },
  "language_info": {
   "codemirror_mode": {
    "name": "ipython",
    "version": 3
   },
   "file_extension": ".py",
   "mimetype": "text/x-python",
   "name": "python",
   "nbconvert_exporter": "python",
   "pygments_lexer": "ipython3",
   "version": "3.12.4"
  }
 },
 "nbformat": 4,
 "nbformat_minor": 5
}
