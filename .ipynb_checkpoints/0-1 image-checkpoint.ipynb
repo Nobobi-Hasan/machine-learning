{
 "cells": [
  {
   "cell_type": "code",
   "execution_count": 1,
   "id": "80481cb8-0ab1-460d-9aa6-d38c004a11fa",
   "metadata": {},
   "outputs": [],
   "source": [
    "# !pip install pillow"
   ]
  },
  {
   "cell_type": "code",
   "execution_count": 2,
   "id": "6cbb0c2c-e8db-4db6-86ae-d39b5386be5a",
   "metadata": {},
   "outputs": [],
   "source": [
    "from PIL import Image, ImageDraw, ImageFont"
   ]
  },
  {
   "cell_type": "code",
   "execution_count": 3,
   "id": "3a8a36a1-3b65-4594-b1a6-5bf787ac1cff",
   "metadata": {},
   "outputs": [],
   "source": [
    "img = Image.open(\"../Images/shatin51.jpeg\")\n",
    "# img.show()\n",
    "WIDTH, HEIGHT = img.size"
   ]
  },
  {
   "cell_type": "code",
   "execution_count": 4,
   "id": "e32590d1-d8a2-4e12-89c8-1a89f564ba0c",
   "metadata": {},
   "outputs": [],
   "source": [
    "div = WIDTH/55\n",
    "font = ImageFont.truetype(\"../DataSets/BRITANIC.ttf\", div)\n",
    "cell_width, cell_height = div, div"
   ]
  },
  {
   "cell_type": "code",
   "execution_count": 5,
   "id": "83dec6e8-edc8-4847-9b37-9a4f3a3164ef",
   "metadata": {},
   "outputs": [],
   "source": [
    "img = img.resize((int(WIDTH / cell_width), int(HEIGHT / cell_height)), Image.NEAREST)\n",
    "new_width, new_height = img.size\n",
    "img = img.load()"
   ]
  },
  {
   "cell_type": "code",
   "execution_count": 6,
   "id": "e7bb8fa1-d204-43ad-b8e5-245c5ec69fc1",
   "metadata": {
    "jupyter": {
     "source_hidden": true
    }
   },
   "outputs": [],
   "source": [
    "new_img = Image.new('RGB', (WIDTH, HEIGHT), (0, 0, 0))\n",
    "d = ImageDraw.Draw(new_img)"
   ]
  },
  {
   "cell_type": "code",
   "execution_count": 7,
   "id": "f726d500-61f1-4b11-a0f5-48e472706169",
   "metadata": {},
   "outputs": [],
   "source": [
    "for i in range(new_height):\n",
    "    for j in range(new_width):\n",
    "        r, g, b = img[j, i]\n",
    "#         r, g, b, a = img[j, i] # use this line if you have an image with alpha value\n",
    "        k = int((r + g + b) / 3)\n",
    "        if k < 128:\n",
    "            text = \"1\"\n",
    "        else:\n",
    "            text = \"0\"\n",
    "        d.text((j * cell_width, i * cell_height), text=text, font=font, fill=(0, g, 0))"
   ]
  },
  {
   "cell_type": "code",
   "execution_count": 8,
   "id": "e9c6f601-2e5b-4f4e-9a69-11fee8cd883e",
   "metadata": {},
   "outputs": [],
   "source": [
    "new_img.save(\"../Images/shatin52_0_1.png\")"
   ]
  },
  {
   "cell_type": "code",
   "execution_count": null,
   "id": "d124fe3e-bd45-4186-860d-a9c5c4ae47a8",
   "metadata": {},
   "outputs": [],
   "source": []
  }
 ],
 "metadata": {
  "kernelspec": {
   "display_name": "Python 3 (ipykernel)",
   "language": "python",
   "name": "python3"
  },
  "language_info": {
   "codemirror_mode": {
    "name": "ipython",
    "version": 3
   },
   "file_extension": ".py",
   "mimetype": "text/x-python",
   "name": "python",
   "nbconvert_exporter": "python",
   "pygments_lexer": "ipython3",
   "version": "3.12.7"
  }
 },
 "nbformat": 4,
 "nbformat_minor": 5
}
